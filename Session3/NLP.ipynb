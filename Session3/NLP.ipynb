{
  "nbformat": 4,
  "nbformat_minor": 0,
  "metadata": {
    "colab": {
      "provenance": [],
      "authorship_tag": "ABX9TyPkwQVKpKU0mPHAPryrqjK7",
      "include_colab_link": true
    },
    "kernelspec": {
      "name": "python3",
      "display_name": "Python 3"
    },
    "language_info": {
      "name": "python"
    }
  },
  "cells": [
    {
      "cell_type": "markdown",
      "metadata": {
        "id": "view-in-github",
        "colab_type": "text"
      },
      "source": [
        "<a href=\"https://colab.research.google.com/github/Raju1410/Class_IS532E/blob/main/Session3/NLP.ipynb\" target=\"_parent\"><img src=\"https://colab.research.google.com/assets/colab-badge.svg\" alt=\"Open In Colab\"/></a>"
      ]
    },
    {
      "cell_type": "code",
      "execution_count": null,
      "metadata": {
        "colab": {
          "base_uri": "https://localhost:8080/"
        },
        "id": "f8ta1qnyFdET",
        "outputId": "aa87c63e-930d-4669-eba0-1e7ffc17fbc7"
      },
      "outputs": [
        {
          "output_type": "stream",
          "name": "stdout",
          "text": [
            "Requirement already satisfied: spacy in /usr/local/lib/python3.10/dist-packages (2.3.9)\n",
            "Requirement already satisfied: murmurhash<1.1.0,>=0.28.0 in /usr/local/lib/python3.10/dist-packages (from spacy) (1.0.10)\n",
            "Requirement already satisfied: cymem<2.1.0,>=2.0.2 in /usr/local/lib/python3.10/dist-packages (from spacy) (2.0.8)\n",
            "Requirement already satisfied: preshed<3.1.0,>=3.0.2 in /usr/local/lib/python3.10/dist-packages (from spacy) (3.0.9)\n",
            "Requirement already satisfied: thinc<7.5.0,>=7.4.1 in /usr/local/lib/python3.10/dist-packages (from spacy) (7.4.6)\n",
            "Requirement already satisfied: blis<0.8.0,>=0.4.0 in /usr/local/lib/python3.10/dist-packages (from spacy) (0.7.11)\n",
            "Requirement already satisfied: wasabi<1.1.0,>=0.4.0 in /usr/local/lib/python3.10/dist-packages (from spacy) (0.10.1)\n",
            "Requirement already satisfied: srsly<1.1.0,>=1.0.2 in /usr/local/lib/python3.10/dist-packages (from spacy) (1.0.7)\n",
            "Requirement already satisfied: catalogue<1.1.0,>=0.0.7 in /usr/local/lib/python3.10/dist-packages (from spacy) (1.0.2)\n",
            "Requirement already satisfied: tqdm<5.0.0,>=4.38.0 in /usr/local/lib/python3.10/dist-packages (from spacy) (4.66.5)\n",
            "Requirement already satisfied: setuptools in /usr/local/lib/python3.10/dist-packages (from spacy) (71.0.4)\n",
            "Requirement already satisfied: numpy>=1.15.0 in /usr/local/lib/python3.10/dist-packages (from spacy) (1.26.4)\n",
            "Requirement already satisfied: plac<1.2.0,>=0.9.6 in /usr/local/lib/python3.10/dist-packages (from spacy) (1.1.3)\n",
            "Requirement already satisfied: requests<3.0.0,>=2.13.0 in /usr/local/lib/python3.10/dist-packages (from spacy) (2.32.3)\n",
            "Requirement already satisfied: charset-normalizer<4,>=2 in /usr/local/lib/python3.10/dist-packages (from requests<3.0.0,>=2.13.0->spacy) (3.3.2)\n",
            "Requirement already satisfied: idna<4,>=2.5 in /usr/local/lib/python3.10/dist-packages (from requests<3.0.0,>=2.13.0->spacy) (3.10)\n",
            "Requirement already satisfied: urllib3<3,>=1.21.1 in /usr/local/lib/python3.10/dist-packages (from requests<3.0.0,>=2.13.0->spacy) (2.2.3)\n",
            "Requirement already satisfied: certifi>=2017.4.17 in /usr/local/lib/python3.10/dist-packages (from requests<3.0.0,>=2.13.0->spacy) (2024.8.30)\n"
          ]
        }
      ],
      "source": [
        "!pip install spacy\n"
      ]
    },
    {
      "cell_type": "code",
      "source": [
        "import spacy\n",
        "from spacy import displacy\n",
        "import numpy as np\n",
        "import nltk\n",
        "nltk.download('wordnet')\n",
        "from nltk.stem import PorterStemmer\n",
        "from nltk import ngrams\n",
        "nltk.download('punkt')\n",
        "from nltk.corpus import wordnet\n",
        "nltk.download('wordnet')\n",
        "from collections import Counter\n",
        "\n",
        "# Load the English language model\n",
        "nlp = spacy.load(\"en_core_web_sm\")"
      ],
      "metadata": {
        "colab": {
          "base_uri": "https://localhost:8080/"
        },
        "id": "Pl983MCIFhp8",
        "outputId": "940848bb-5db0-43b5-9554-a2f3f2dd98ce"
      },
      "execution_count": null,
      "outputs": [
        {
          "output_type": "stream",
          "name": "stderr",
          "text": [
            "[nltk_data] Downloading package wordnet to /root/nltk_data...\n",
            "[nltk_data]   Package wordnet is already up-to-date!\n",
            "[nltk_data] Downloading package punkt to /root/nltk_data...\n",
            "[nltk_data]   Package punkt is already up-to-date!\n",
            "[nltk_data] Downloading package wordnet to /root/nltk_data...\n",
            "[nltk_data]   Package wordnet is already up-to-date!\n"
          ]
        }
      ]
    },
    {
      "cell_type": "code",
      "source": [
        "# Sample text for analysis\n",
        "text = \"\"\"SpaCy is an open-source software library for advanced Natural Language Processing.\"\"\""
      ],
      "metadata": {
        "id": "5JAjB6RXFxMe"
      },
      "execution_count": null,
      "outputs": []
    },
    {
      "cell_type": "markdown",
      "source": [
        "## Tokenization"
      ],
      "metadata": {
        "id": "9J6HRQeaXmi-"
      }
    },
    {
      "cell_type": "code",
      "source": [
        "# Tokenization\n",
        "doc = nlp(text)\n",
        "for token in doc:\n",
        "    print(token.text)\n",
        "\n",
        "# Visualize the tokens using displacy\n",
        "displacy.render(doc, style=\"dep\", jupyter=True)"
      ],
      "metadata": {
        "colab": {
          "base_uri": "https://localhost:8080/",
          "height": 781
        },
        "id": "--EM-eeAFzYG",
        "outputId": "2c9aab1d-791a-457a-f272-c0a1e4178b3c"
      },
      "execution_count": null,
      "outputs": [
        {
          "output_type": "stream",
          "name": "stdout",
          "text": [
            "SpaCy\n",
            "is\n",
            "an\n",
            "open\n",
            "-\n",
            "source\n",
            "software\n",
            "library\n",
            "for\n",
            "advanced\n",
            "Natural\n",
            "Language\n",
            "Processing\n",
            ".\n"
          ]
        },
        {
          "output_type": "display_data",
          "data": {
            "text/plain": [
              "<IPython.core.display.HTML object>"
            ],
            "text/html": [
              "<span class=\"tex2jax_ignore\"><svg xmlns=\"http://www.w3.org/2000/svg\" xmlns:xlink=\"http://www.w3.org/1999/xlink\" xml:lang=\"en\" id=\"20052fbbd03547af8616242299cc3d37-0\" class=\"displacy\" width=\"2150\" height=\"487.0\" direction=\"ltr\" style=\"max-width: none; height: 487.0px; color: #000000; background: #ffffff; font-family: Arial; direction: ltr\">\n",
              "<text class=\"displacy-token\" fill=\"currentColor\" text-anchor=\"middle\" y=\"397.0\">\n",
              "    <tspan class=\"displacy-word\" fill=\"currentColor\" x=\"50\">SpaCy</tspan>\n",
              "    <tspan class=\"displacy-tag\" dy=\"2em\" fill=\"currentColor\" x=\"50\">PROPN</tspan>\n",
              "</text>\n",
              "\n",
              "<text class=\"displacy-token\" fill=\"currentColor\" text-anchor=\"middle\" y=\"397.0\">\n",
              "    <tspan class=\"displacy-word\" fill=\"currentColor\" x=\"225\">is</tspan>\n",
              "    <tspan class=\"displacy-tag\" dy=\"2em\" fill=\"currentColor\" x=\"225\">AUX</tspan>\n",
              "</text>\n",
              "\n",
              "<text class=\"displacy-token\" fill=\"currentColor\" text-anchor=\"middle\" y=\"397.0\">\n",
              "    <tspan class=\"displacy-word\" fill=\"currentColor\" x=\"400\">an</tspan>\n",
              "    <tspan class=\"displacy-tag\" dy=\"2em\" fill=\"currentColor\" x=\"400\">DET</tspan>\n",
              "</text>\n",
              "\n",
              "<text class=\"displacy-token\" fill=\"currentColor\" text-anchor=\"middle\" y=\"397.0\">\n",
              "    <tspan class=\"displacy-word\" fill=\"currentColor\" x=\"575\">open-</tspan>\n",
              "    <tspan class=\"displacy-tag\" dy=\"2em\" fill=\"currentColor\" x=\"575\">ADJ</tspan>\n",
              "</text>\n",
              "\n",
              "<text class=\"displacy-token\" fill=\"currentColor\" text-anchor=\"middle\" y=\"397.0\">\n",
              "    <tspan class=\"displacy-word\" fill=\"currentColor\" x=\"750\">source</tspan>\n",
              "    <tspan class=\"displacy-tag\" dy=\"2em\" fill=\"currentColor\" x=\"750\">NOUN</tspan>\n",
              "</text>\n",
              "\n",
              "<text class=\"displacy-token\" fill=\"currentColor\" text-anchor=\"middle\" y=\"397.0\">\n",
              "    <tspan class=\"displacy-word\" fill=\"currentColor\" x=\"925\">software</tspan>\n",
              "    <tspan class=\"displacy-tag\" dy=\"2em\" fill=\"currentColor\" x=\"925\">NOUN</tspan>\n",
              "</text>\n",
              "\n",
              "<text class=\"displacy-token\" fill=\"currentColor\" text-anchor=\"middle\" y=\"397.0\">\n",
              "    <tspan class=\"displacy-word\" fill=\"currentColor\" x=\"1100\">library</tspan>\n",
              "    <tspan class=\"displacy-tag\" dy=\"2em\" fill=\"currentColor\" x=\"1100\">NOUN</tspan>\n",
              "</text>\n",
              "\n",
              "<text class=\"displacy-token\" fill=\"currentColor\" text-anchor=\"middle\" y=\"397.0\">\n",
              "    <tspan class=\"displacy-word\" fill=\"currentColor\" x=\"1275\">for</tspan>\n",
              "    <tspan class=\"displacy-tag\" dy=\"2em\" fill=\"currentColor\" x=\"1275\">ADP</tspan>\n",
              "</text>\n",
              "\n",
              "<text class=\"displacy-token\" fill=\"currentColor\" text-anchor=\"middle\" y=\"397.0\">\n",
              "    <tspan class=\"displacy-word\" fill=\"currentColor\" x=\"1450\">advanced</tspan>\n",
              "    <tspan class=\"displacy-tag\" dy=\"2em\" fill=\"currentColor\" x=\"1450\">ADJ</tspan>\n",
              "</text>\n",
              "\n",
              "<text class=\"displacy-token\" fill=\"currentColor\" text-anchor=\"middle\" y=\"397.0\">\n",
              "    <tspan class=\"displacy-word\" fill=\"currentColor\" x=\"1625\">Natural</tspan>\n",
              "    <tspan class=\"displacy-tag\" dy=\"2em\" fill=\"currentColor\" x=\"1625\">PROPN</tspan>\n",
              "</text>\n",
              "\n",
              "<text class=\"displacy-token\" fill=\"currentColor\" text-anchor=\"middle\" y=\"397.0\">\n",
              "    <tspan class=\"displacy-word\" fill=\"currentColor\" x=\"1800\">Language</tspan>\n",
              "    <tspan class=\"displacy-tag\" dy=\"2em\" fill=\"currentColor\" x=\"1800\">PROPN</tspan>\n",
              "</text>\n",
              "\n",
              "<text class=\"displacy-token\" fill=\"currentColor\" text-anchor=\"middle\" y=\"397.0\">\n",
              "    <tspan class=\"displacy-word\" fill=\"currentColor\" x=\"1975\">Processing.</tspan>\n",
              "    <tspan class=\"displacy-tag\" dy=\"2em\" fill=\"currentColor\" x=\"1975\">PROPN</tspan>\n",
              "</text>\n",
              "\n",
              "<g class=\"displacy-arrow\">\n",
              "    <path class=\"displacy-arc\" id=\"arrow-20052fbbd03547af8616242299cc3d37-0-0\" stroke-width=\"2px\" d=\"M70,352.0 C70,264.5 210.0,264.5 210.0,352.0\" fill=\"none\" stroke=\"currentColor\"/>\n",
              "    <text dy=\"1.25em\" style=\"font-size: 0.8em; letter-spacing: 1px\">\n",
              "        <textPath xlink:href=\"#arrow-20052fbbd03547af8616242299cc3d37-0-0\" class=\"displacy-label\" startOffset=\"50%\" side=\"left\" fill=\"currentColor\" text-anchor=\"middle\">nsubj</textPath>\n",
              "    </text>\n",
              "    <path class=\"displacy-arrowhead\" d=\"M70,354.0 L62,342.0 78,342.0\" fill=\"currentColor\"/>\n",
              "</g>\n",
              "\n",
              "<g class=\"displacy-arrow\">\n",
              "    <path class=\"displacy-arc\" id=\"arrow-20052fbbd03547af8616242299cc3d37-0-1\" stroke-width=\"2px\" d=\"M420,352.0 C420,89.5 1095.0,89.5 1095.0,352.0\" fill=\"none\" stroke=\"currentColor\"/>\n",
              "    <text dy=\"1.25em\" style=\"font-size: 0.8em; letter-spacing: 1px\">\n",
              "        <textPath xlink:href=\"#arrow-20052fbbd03547af8616242299cc3d37-0-1\" class=\"displacy-label\" startOffset=\"50%\" side=\"left\" fill=\"currentColor\" text-anchor=\"middle\">det</textPath>\n",
              "    </text>\n",
              "    <path class=\"displacy-arrowhead\" d=\"M420,354.0 L412,342.0 428,342.0\" fill=\"currentColor\"/>\n",
              "</g>\n",
              "\n",
              "<g class=\"displacy-arrow\">\n",
              "    <path class=\"displacy-arc\" id=\"arrow-20052fbbd03547af8616242299cc3d37-0-2\" stroke-width=\"2px\" d=\"M595,352.0 C595,264.5 735.0,264.5 735.0,352.0\" fill=\"none\" stroke=\"currentColor\"/>\n",
              "    <text dy=\"1.25em\" style=\"font-size: 0.8em; letter-spacing: 1px\">\n",
              "        <textPath xlink:href=\"#arrow-20052fbbd03547af8616242299cc3d37-0-2\" class=\"displacy-label\" startOffset=\"50%\" side=\"left\" fill=\"currentColor\" text-anchor=\"middle\">amod</textPath>\n",
              "    </text>\n",
              "    <path class=\"displacy-arrowhead\" d=\"M595,354.0 L587,342.0 603,342.0\" fill=\"currentColor\"/>\n",
              "</g>\n",
              "\n",
              "<g class=\"displacy-arrow\">\n",
              "    <path class=\"displacy-arc\" id=\"arrow-20052fbbd03547af8616242299cc3d37-0-3\" stroke-width=\"2px\" d=\"M770,352.0 C770,177.0 1090.0,177.0 1090.0,352.0\" fill=\"none\" stroke=\"currentColor\"/>\n",
              "    <text dy=\"1.25em\" style=\"font-size: 0.8em; letter-spacing: 1px\">\n",
              "        <textPath xlink:href=\"#arrow-20052fbbd03547af8616242299cc3d37-0-3\" class=\"displacy-label\" startOffset=\"50%\" side=\"left\" fill=\"currentColor\" text-anchor=\"middle\">compound</textPath>\n",
              "    </text>\n",
              "    <path class=\"displacy-arrowhead\" d=\"M770,354.0 L762,342.0 778,342.0\" fill=\"currentColor\"/>\n",
              "</g>\n",
              "\n",
              "<g class=\"displacy-arrow\">\n",
              "    <path class=\"displacy-arc\" id=\"arrow-20052fbbd03547af8616242299cc3d37-0-4\" stroke-width=\"2px\" d=\"M945,352.0 C945,264.5 1085.0,264.5 1085.0,352.0\" fill=\"none\" stroke=\"currentColor\"/>\n",
              "    <text dy=\"1.25em\" style=\"font-size: 0.8em; letter-spacing: 1px\">\n",
              "        <textPath xlink:href=\"#arrow-20052fbbd03547af8616242299cc3d37-0-4\" class=\"displacy-label\" startOffset=\"50%\" side=\"left\" fill=\"currentColor\" text-anchor=\"middle\">compound</textPath>\n",
              "    </text>\n",
              "    <path class=\"displacy-arrowhead\" d=\"M945,354.0 L937,342.0 953,342.0\" fill=\"currentColor\"/>\n",
              "</g>\n",
              "\n",
              "<g class=\"displacy-arrow\">\n",
              "    <path class=\"displacy-arc\" id=\"arrow-20052fbbd03547af8616242299cc3d37-0-5\" stroke-width=\"2px\" d=\"M245,352.0 C245,2.0 1100.0,2.0 1100.0,352.0\" fill=\"none\" stroke=\"currentColor\"/>\n",
              "    <text dy=\"1.25em\" style=\"font-size: 0.8em; letter-spacing: 1px\">\n",
              "        <textPath xlink:href=\"#arrow-20052fbbd03547af8616242299cc3d37-0-5\" class=\"displacy-label\" startOffset=\"50%\" side=\"left\" fill=\"currentColor\" text-anchor=\"middle\">attr</textPath>\n",
              "    </text>\n",
              "    <path class=\"displacy-arrowhead\" d=\"M1100.0,354.0 L1108.0,342.0 1092.0,342.0\" fill=\"currentColor\"/>\n",
              "</g>\n",
              "\n",
              "<g class=\"displacy-arrow\">\n",
              "    <path class=\"displacy-arc\" id=\"arrow-20052fbbd03547af8616242299cc3d37-0-6\" stroke-width=\"2px\" d=\"M1120,352.0 C1120,264.5 1260.0,264.5 1260.0,352.0\" fill=\"none\" stroke=\"currentColor\"/>\n",
              "    <text dy=\"1.25em\" style=\"font-size: 0.8em; letter-spacing: 1px\">\n",
              "        <textPath xlink:href=\"#arrow-20052fbbd03547af8616242299cc3d37-0-6\" class=\"displacy-label\" startOffset=\"50%\" side=\"left\" fill=\"currentColor\" text-anchor=\"middle\">prep</textPath>\n",
              "    </text>\n",
              "    <path class=\"displacy-arrowhead\" d=\"M1260.0,354.0 L1268.0,342.0 1252.0,342.0\" fill=\"currentColor\"/>\n",
              "</g>\n",
              "\n",
              "<g class=\"displacy-arrow\">\n",
              "    <path class=\"displacy-arc\" id=\"arrow-20052fbbd03547af8616242299cc3d37-0-7\" stroke-width=\"2px\" d=\"M1470,352.0 C1470,177.0 1965.0,177.0 1965.0,352.0\" fill=\"none\" stroke=\"currentColor\"/>\n",
              "    <text dy=\"1.25em\" style=\"font-size: 0.8em; letter-spacing: 1px\">\n",
              "        <textPath xlink:href=\"#arrow-20052fbbd03547af8616242299cc3d37-0-7\" class=\"displacy-label\" startOffset=\"50%\" side=\"left\" fill=\"currentColor\" text-anchor=\"middle\">amod</textPath>\n",
              "    </text>\n",
              "    <path class=\"displacy-arrowhead\" d=\"M1470,354.0 L1462,342.0 1478,342.0\" fill=\"currentColor\"/>\n",
              "</g>\n",
              "\n",
              "<g class=\"displacy-arrow\">\n",
              "    <path class=\"displacy-arc\" id=\"arrow-20052fbbd03547af8616242299cc3d37-0-8\" stroke-width=\"2px\" d=\"M1645,352.0 C1645,264.5 1785.0,264.5 1785.0,352.0\" fill=\"none\" stroke=\"currentColor\"/>\n",
              "    <text dy=\"1.25em\" style=\"font-size: 0.8em; letter-spacing: 1px\">\n",
              "        <textPath xlink:href=\"#arrow-20052fbbd03547af8616242299cc3d37-0-8\" class=\"displacy-label\" startOffset=\"50%\" side=\"left\" fill=\"currentColor\" text-anchor=\"middle\">compound</textPath>\n",
              "    </text>\n",
              "    <path class=\"displacy-arrowhead\" d=\"M1645,354.0 L1637,342.0 1653,342.0\" fill=\"currentColor\"/>\n",
              "</g>\n",
              "\n",
              "<g class=\"displacy-arrow\">\n",
              "    <path class=\"displacy-arc\" id=\"arrow-20052fbbd03547af8616242299cc3d37-0-9\" stroke-width=\"2px\" d=\"M1820,352.0 C1820,264.5 1960.0,264.5 1960.0,352.0\" fill=\"none\" stroke=\"currentColor\"/>\n",
              "    <text dy=\"1.25em\" style=\"font-size: 0.8em; letter-spacing: 1px\">\n",
              "        <textPath xlink:href=\"#arrow-20052fbbd03547af8616242299cc3d37-0-9\" class=\"displacy-label\" startOffset=\"50%\" side=\"left\" fill=\"currentColor\" text-anchor=\"middle\">compound</textPath>\n",
              "    </text>\n",
              "    <path class=\"displacy-arrowhead\" d=\"M1820,354.0 L1812,342.0 1828,342.0\" fill=\"currentColor\"/>\n",
              "</g>\n",
              "\n",
              "<g class=\"displacy-arrow\">\n",
              "    <path class=\"displacy-arc\" id=\"arrow-20052fbbd03547af8616242299cc3d37-0-10\" stroke-width=\"2px\" d=\"M1295,352.0 C1295,89.5 1970.0,89.5 1970.0,352.0\" fill=\"none\" stroke=\"currentColor\"/>\n",
              "    <text dy=\"1.25em\" style=\"font-size: 0.8em; letter-spacing: 1px\">\n",
              "        <textPath xlink:href=\"#arrow-20052fbbd03547af8616242299cc3d37-0-10\" class=\"displacy-label\" startOffset=\"50%\" side=\"left\" fill=\"currentColor\" text-anchor=\"middle\">pobj</textPath>\n",
              "    </text>\n",
              "    <path class=\"displacy-arrowhead\" d=\"M1970.0,354.0 L1978.0,342.0 1962.0,342.0\" fill=\"currentColor\"/>\n",
              "</g>\n",
              "</svg></span>"
            ]
          },
          "metadata": {}
        }
      ]
    },
    {
      "cell_type": "markdown",
      "source": [
        "## POS Tagging"
      ],
      "metadata": {
        "id": "qryYqGPAXreL"
      }
    },
    {
      "cell_type": "code",
      "source": [
        "# Part-of-Speech Tagging\n",
        "for token in doc:\n",
        "    print(f\"{token.text}: {token.pos_}\")"
      ],
      "metadata": {
        "colab": {
          "base_uri": "https://localhost:8080/"
        },
        "id": "JBbIoHkvGMom",
        "outputId": "7852c524-77f6-4508-b49a-b75f1b637805"
      },
      "execution_count": null,
      "outputs": [
        {
          "output_type": "stream",
          "name": "stdout",
          "text": [
            "SpaCy: PROPN\n",
            "is: AUX\n",
            "an: DET\n",
            "open: ADJ\n",
            "-: PUNCT\n",
            "source: NOUN\n",
            "software: NOUN\n",
            "library: NOUN\n",
            "for: ADP\n",
            "advanced: ADJ\n",
            "Natural: PROPN\n",
            "Language: PROPN\n",
            "Processing: PROPN\n",
            ".: PUNCT\n"
          ]
        }
      ]
    },
    {
      "cell_type": "markdown",
      "source": [
        "## Named Entity Recognition (NER)"
      ],
      "metadata": {
        "id": "BuzmUiYHXykv"
      }
    },
    {
      "cell_type": "code",
      "source": [
        "text = \"When Sebastian Thrun started working on self-driving cars at Google in 2007, few people outside of the company took him seriously.\"\n",
        "\n",
        "nlp = spacy.load(\"en_core_web_sm\")\n",
        "doc = nlp(text)\n",
        "for ent in doc.ents:\n",
        "    print(f\"{ent.text} ({ent.label_})\")\n",
        "displacy.render(doc, style=\"ent\", jupyter=True)"
      ],
      "metadata": {
        "colab": {
          "base_uri": "https://localhost:8080/",
          "height": 106
        },
        "id": "gP_At_vnGnM2",
        "outputId": "a2a73169-313f-4c51-ff65-8eb39601042b"
      },
      "execution_count": null,
      "outputs": [
        {
          "output_type": "stream",
          "name": "stdout",
          "text": [
            "Sebastian Thrun (PERSON)\n",
            "Google (ORG)\n",
            "2007 (DATE)\n"
          ]
        },
        {
          "output_type": "display_data",
          "data": {
            "text/plain": [
              "<IPython.core.display.HTML object>"
            ],
            "text/html": [
              "<span class=\"tex2jax_ignore\"><div class=\"entities\" style=\"line-height: 2.5; direction: ltr\">When \n",
              "<mark class=\"entity\" style=\"background: #aa9cfc; padding: 0.45em 0.6em; margin: 0 0.25em; line-height: 1; border-radius: 0.35em;\">\n",
              "    Sebastian Thrun\n",
              "    <span style=\"font-size: 0.8em; font-weight: bold; line-height: 1; border-radius: 0.35em; vertical-align: middle; margin-left: 0.5rem\">PERSON</span>\n",
              "</mark>\n",
              " started working on self-driving cars at \n",
              "<mark class=\"entity\" style=\"background: #7aecec; padding: 0.45em 0.6em; margin: 0 0.25em; line-height: 1; border-radius: 0.35em;\">\n",
              "    Google\n",
              "    <span style=\"font-size: 0.8em; font-weight: bold; line-height: 1; border-radius: 0.35em; vertical-align: middle; margin-left: 0.5rem\">ORG</span>\n",
              "</mark>\n",
              " in \n",
              "<mark class=\"entity\" style=\"background: #bfe1d9; padding: 0.45em 0.6em; margin: 0 0.25em; line-height: 1; border-radius: 0.35em;\">\n",
              "    2007\n",
              "    <span style=\"font-size: 0.8em; font-weight: bold; line-height: 1; border-radius: 0.35em; vertical-align: middle; margin-left: 0.5rem\">DATE</span>\n",
              "</mark>\n",
              ", few people outside of the company took him seriously.</div></span>"
            ]
          },
          "metadata": {}
        }
      ]
    },
    {
      "cell_type": "markdown",
      "source": [
        "## Stop Word Removal and Text Normalization"
      ],
      "metadata": {
        "id": "7zMLANGgYq03"
      }
    },
    {
      "cell_type": "code",
      "source": [
        "# Stop word removal and text normalization (lowercase and lemmatization)\n",
        "normalized_tokens = [token.lemma_.lower() for token in doc if not token.is_stop and not token.is_punct]\n",
        "\n",
        "# Join the tokens into a normalized string\n",
        "normalized_text = \" \".join(normalized_tokens)\n",
        "\n",
        "# Output the normalized text\n",
        "print(normalized_text)"
      ],
      "metadata": {
        "colab": {
          "base_uri": "https://localhost:8080/"
        },
        "id": "7DCtSsB-HkVO",
        "outputId": "fad5001c-9dea-4414-f54d-06302fe35bf2"
      },
      "execution_count": null,
      "outputs": [
        {
          "output_type": "stream",
          "name": "stdout",
          "text": [
            "sebastian thrun start work self drive car google 2007 people outside company take seriously\n"
          ]
        }
      ]
    },
    {
      "cell_type": "markdown",
      "source": [
        "# Stemming vs. Lemmatization\n",
        "\n",
        "| Feature              | Stemming                                  | Lemmatization                              |\n",
        "|----------------------|-------------------------------------------|-------------------------------------------|\n",
        "| **Definition**       | Reducing words to their root form by removing suffixes or prefixes. | Reducing words to their base or dictionary form (lemma). |\n",
        "| **Process**          | Uses heuristic processes, often removing endings of words. | Involves a detailed dictionary lookup for the base form. |\n",
        "| **Output**           | Can produce non-existent words (e.g., \"running\" → \"run\"). | Produces actual words (e.g., \"running\" → \"run\"). |\n",
        "| **Language**         | Works primarily in English and may not be effective for other languages. | More effective across various languages, as it considers the context of the word. |\n",
        "| **Complexity**       | Faster and simpler; does not require extensive knowledge of the language. | More complex; requires understanding of the grammar and context. |\n",
        "| **Use Cases**        | Useful in information retrieval, search queries, and where precision is less critical. | Preferred in natural language processing tasks where meaning is important. |\n",
        "| **Examples**         | - \"fishing\" → \"fish\"  <br> - \"better\" → \"better\" (removed suffix) | - \"better\" → \"good\" <br> - \"geese\" → \"goose\" |\n",
        "\n",
        "## Explanation\n",
        "- **Stemming**: Stemming algorithms, like Porter Stemmer, simplify the process by cutting off prefixes and suffixes. It’s a brute-force approach that may not always yield real words. It’s useful for applications where the exact meaning of the word is less important than capturing the overall theme.\n",
        "  \n",
        "- **Lemmatization**: Lemmatization uses a dictionary or corpus to look up the base form of the word, considering its part of speech and context. It’s more accurate than stemming but requires more computational resources. Lemmatization is important in applications that require understanding the meaning of the text.\n",
        "\n"
      ],
      "metadata": {
        "id": "4xeEPjQ0ZxZ7"
      }
    },
    {
      "cell_type": "code",
      "source": [
        "# Sample text\n",
        "text = \"The cats are running faster than the dogs. She bettered her previous record.\"\n",
        "\n",
        "# Process the text using the model\n",
        "doc = nlp(text)\n",
        "\n",
        "# Print the tokens and their lemmas\n",
        "for token in doc:\n",
        "    print(f\"Token: {token.text}, Lemma: {token.lemma_}\")"
      ],
      "metadata": {
        "colab": {
          "base_uri": "https://localhost:8080/"
        },
        "id": "2y96bdxZIZFl",
        "outputId": "dd5dc050-f031-45e6-df34-5458484d307f"
      },
      "execution_count": null,
      "outputs": [
        {
          "output_type": "stream",
          "name": "stdout",
          "text": [
            "Token: The, Lemma: the\n",
            "Token: cats, Lemma: cat\n",
            "Token: are, Lemma: be\n",
            "Token: running, Lemma: run\n",
            "Token: faster, Lemma: fast\n",
            "Token: than, Lemma: than\n",
            "Token: the, Lemma: the\n",
            "Token: dogs, Lemma: dog\n",
            "Token: ., Lemma: .\n",
            "Token: She, Lemma: she\n",
            "Token: bettered, Lemma: better\n",
            "Token: her, Lemma: her\n",
            "Token: previous, Lemma: previous\n",
            "Token: record, Lemma: record\n",
            "Token: ., Lemma: .\n"
          ]
        }
      ]
    },
    {
      "cell_type": "code",
      "source": [
        "stemmer = PorterStemmer()\n",
        "# Process the text with spaCy\n",
        "doc = nlp(text)\n",
        "\n",
        "# Apply stemming using NLTK's PorterStemmer\n",
        "stems = [stemmer.stem(token.text) for token in doc]\n",
        "\n",
        "# Output the stemmed words\n",
        "print(stems)"
      ],
      "metadata": {
        "colab": {
          "base_uri": "https://localhost:8080/"
        },
        "id": "UNyCBeX-IasK",
        "outputId": "c35a0841-e904-4a75-d31e-b99d59b350c5"
      },
      "execution_count": null,
      "outputs": [
        {
          "output_type": "stream",
          "name": "stdout",
          "text": [
            "['the', 'cat', 'are', 'run', 'faster', 'than', 'the', 'dog', '.', 'she', 'better', 'her', 'previou', 'record', '.']\n"
          ]
        }
      ]
    },
    {
      "cell_type": "markdown",
      "source": [
        "## Dependency Parsing"
      ],
      "metadata": {
        "id": "U_cBNgvZad3x"
      }
    },
    {
      "cell_type": "code",
      "source": [
        "# Sample text\n",
        "text = \"The quick brown fox jumps over the lazy dog.\"\n",
        "\n",
        "# Process the text\n",
        "doc = nlp(text)\n",
        "\n",
        "# Print token, POS tags, and dependency information\n",
        "for token in doc:\n",
        "    print(f\"Token: {token.text}, POS: {token.pos_}, Detailed POS: {token.tag_}, Dependency: {token.dep_}, Head: {token.head.text}\")"
      ],
      "metadata": {
        "colab": {
          "base_uri": "https://localhost:8080/"
        },
        "id": "JOGOvnFiKSw0",
        "outputId": "a525d152-d3ad-45ee-9caf-b3a37415d7b3"
      },
      "execution_count": null,
      "outputs": [
        {
          "output_type": "stream",
          "name": "stdout",
          "text": [
            "Token: The, POS: DET, Detailed POS: DT, Dependency: det, Head: fox\n",
            "Token: quick, POS: ADJ, Detailed POS: JJ, Dependency: amod, Head: fox\n",
            "Token: brown, POS: ADJ, Detailed POS: JJ, Dependency: amod, Head: fox\n",
            "Token: fox, POS: NOUN, Detailed POS: NN, Dependency: nsubj, Head: jumps\n",
            "Token: jumps, POS: VERB, Detailed POS: VBZ, Dependency: ROOT, Head: jumps\n",
            "Token: over, POS: ADP, Detailed POS: IN, Dependency: prep, Head: jumps\n",
            "Token: the, POS: DET, Detailed POS: DT, Dependency: det, Head: dog\n",
            "Token: lazy, POS: ADJ, Detailed POS: JJ, Dependency: amod, Head: dog\n",
            "Token: dog, POS: NOUN, Detailed POS: NN, Dependency: pobj, Head: over\n",
            "Token: ., POS: PUNCT, Detailed POS: ., Dependency: punct, Head: jumps\n"
          ]
        }
      ]
    },
    {
      "cell_type": "code",
      "source": [
        "# Visualize dependency parsing\n",
        "displacy.render(doc, style=\"dep\", jupyter=True, options={'compact': True})"
      ],
      "metadata": {
        "colab": {
          "base_uri": "https://localhost:8080/",
          "height": 403
        },
        "id": "uGBQVnrfKfyw",
        "outputId": "85e7e91f-0419-43dc-fba8-b81a4e6d79c7"
      },
      "execution_count": null,
      "outputs": [
        {
          "output_type": "display_data",
          "data": {
            "text/plain": [
              "<IPython.core.display.HTML object>"
            ],
            "text/html": [
              "<span class=\"tex2jax_ignore\"><svg xmlns=\"http://www.w3.org/2000/svg\" xmlns:xlink=\"http://www.w3.org/1999/xlink\" xml:lang=\"en\" id=\"4f01d349c11b418e91d673f7894b312f-0\" class=\"displacy\" width=\"1400\" height=\"362.0\" direction=\"ltr\" style=\"max-width: none; height: 362.0px; color: #000000; background: #ffffff; font-family: Arial; direction: ltr\">\n",
              "<text class=\"displacy-token\" fill=\"currentColor\" text-anchor=\"middle\" y=\"272.0\">\n",
              "    <tspan class=\"displacy-word\" fill=\"currentColor\" x=\"50\">The</tspan>\n",
              "    <tspan class=\"displacy-tag\" dy=\"2em\" fill=\"currentColor\" x=\"50\">DET</tspan>\n",
              "</text>\n",
              "\n",
              "<text class=\"displacy-token\" fill=\"currentColor\" text-anchor=\"middle\" y=\"272.0\">\n",
              "    <tspan class=\"displacy-word\" fill=\"currentColor\" x=\"200\">quick</tspan>\n",
              "    <tspan class=\"displacy-tag\" dy=\"2em\" fill=\"currentColor\" x=\"200\">ADJ</tspan>\n",
              "</text>\n",
              "\n",
              "<text class=\"displacy-token\" fill=\"currentColor\" text-anchor=\"middle\" y=\"272.0\">\n",
              "    <tspan class=\"displacy-word\" fill=\"currentColor\" x=\"350\">brown</tspan>\n",
              "    <tspan class=\"displacy-tag\" dy=\"2em\" fill=\"currentColor\" x=\"350\">ADJ</tspan>\n",
              "</text>\n",
              "\n",
              "<text class=\"displacy-token\" fill=\"currentColor\" text-anchor=\"middle\" y=\"272.0\">\n",
              "    <tspan class=\"displacy-word\" fill=\"currentColor\" x=\"500\">fox</tspan>\n",
              "    <tspan class=\"displacy-tag\" dy=\"2em\" fill=\"currentColor\" x=\"500\">NOUN</tspan>\n",
              "</text>\n",
              "\n",
              "<text class=\"displacy-token\" fill=\"currentColor\" text-anchor=\"middle\" y=\"272.0\">\n",
              "    <tspan class=\"displacy-word\" fill=\"currentColor\" x=\"650\">jumps</tspan>\n",
              "    <tspan class=\"displacy-tag\" dy=\"2em\" fill=\"currentColor\" x=\"650\">VERB</tspan>\n",
              "</text>\n",
              "\n",
              "<text class=\"displacy-token\" fill=\"currentColor\" text-anchor=\"middle\" y=\"272.0\">\n",
              "    <tspan class=\"displacy-word\" fill=\"currentColor\" x=\"800\">over</tspan>\n",
              "    <tspan class=\"displacy-tag\" dy=\"2em\" fill=\"currentColor\" x=\"800\">ADP</tspan>\n",
              "</text>\n",
              "\n",
              "<text class=\"displacy-token\" fill=\"currentColor\" text-anchor=\"middle\" y=\"272.0\">\n",
              "    <tspan class=\"displacy-word\" fill=\"currentColor\" x=\"950\">the</tspan>\n",
              "    <tspan class=\"displacy-tag\" dy=\"2em\" fill=\"currentColor\" x=\"950\">DET</tspan>\n",
              "</text>\n",
              "\n",
              "<text class=\"displacy-token\" fill=\"currentColor\" text-anchor=\"middle\" y=\"272.0\">\n",
              "    <tspan class=\"displacy-word\" fill=\"currentColor\" x=\"1100\">lazy</tspan>\n",
              "    <tspan class=\"displacy-tag\" dy=\"2em\" fill=\"currentColor\" x=\"1100\">ADJ</tspan>\n",
              "</text>\n",
              "\n",
              "<text class=\"displacy-token\" fill=\"currentColor\" text-anchor=\"middle\" y=\"272.0\">\n",
              "    <tspan class=\"displacy-word\" fill=\"currentColor\" x=\"1250\">dog.</tspan>\n",
              "    <tspan class=\"displacy-tag\" dy=\"2em\" fill=\"currentColor\" x=\"1250\">NOUN</tspan>\n",
              "</text>\n",
              "\n",
              "<g class=\"displacy-arrow\">\n",
              "    <path class=\"displacy-arc\" id=\"arrow-4f01d349c11b418e91d673f7894b312f-0-0\" stroke-width=\"2px\" d=\"M62,227.0 62,152.0 500.0,152.0 500.0,227.0\" fill=\"none\" stroke=\"currentColor\"/>\n",
              "    <text dy=\"1.25em\" style=\"font-size: 0.8em; letter-spacing: 1px\">\n",
              "        <textPath xlink:href=\"#arrow-4f01d349c11b418e91d673f7894b312f-0-0\" class=\"displacy-label\" startOffset=\"50%\" side=\"left\" fill=\"currentColor\" text-anchor=\"middle\">det</textPath>\n",
              "    </text>\n",
              "    <path class=\"displacy-arrowhead\" d=\"M62,229.0 L58,221.0 66,221.0\" fill=\"currentColor\"/>\n",
              "</g>\n",
              "\n",
              "<g class=\"displacy-arrow\">\n",
              "    <path class=\"displacy-arc\" id=\"arrow-4f01d349c11b418e91d673f7894b312f-0-1\" stroke-width=\"2px\" d=\"M212,227.0 212,177.0 497.0,177.0 497.0,227.0\" fill=\"none\" stroke=\"currentColor\"/>\n",
              "    <text dy=\"1.25em\" style=\"font-size: 0.8em; letter-spacing: 1px\">\n",
              "        <textPath xlink:href=\"#arrow-4f01d349c11b418e91d673f7894b312f-0-1\" class=\"displacy-label\" startOffset=\"50%\" side=\"left\" fill=\"currentColor\" text-anchor=\"middle\">amod</textPath>\n",
              "    </text>\n",
              "    <path class=\"displacy-arrowhead\" d=\"M212,229.0 L208,221.0 216,221.0\" fill=\"currentColor\"/>\n",
              "</g>\n",
              "\n",
              "<g class=\"displacy-arrow\">\n",
              "    <path class=\"displacy-arc\" id=\"arrow-4f01d349c11b418e91d673f7894b312f-0-2\" stroke-width=\"2px\" d=\"M362,227.0 362,202.0 494.0,202.0 494.0,227.0\" fill=\"none\" stroke=\"currentColor\"/>\n",
              "    <text dy=\"1.25em\" style=\"font-size: 0.8em; letter-spacing: 1px\">\n",
              "        <textPath xlink:href=\"#arrow-4f01d349c11b418e91d673f7894b312f-0-2\" class=\"displacy-label\" startOffset=\"50%\" side=\"left\" fill=\"currentColor\" text-anchor=\"middle\">amod</textPath>\n",
              "    </text>\n",
              "    <path class=\"displacy-arrowhead\" d=\"M362,229.0 L358,221.0 366,221.0\" fill=\"currentColor\"/>\n",
              "</g>\n",
              "\n",
              "<g class=\"displacy-arrow\">\n",
              "    <path class=\"displacy-arc\" id=\"arrow-4f01d349c11b418e91d673f7894b312f-0-3\" stroke-width=\"2px\" d=\"M512,227.0 512,202.0 644.0,202.0 644.0,227.0\" fill=\"none\" stroke=\"currentColor\"/>\n",
              "    <text dy=\"1.25em\" style=\"font-size: 0.8em; letter-spacing: 1px\">\n",
              "        <textPath xlink:href=\"#arrow-4f01d349c11b418e91d673f7894b312f-0-3\" class=\"displacy-label\" startOffset=\"50%\" side=\"left\" fill=\"currentColor\" text-anchor=\"middle\">nsubj</textPath>\n",
              "    </text>\n",
              "    <path class=\"displacy-arrowhead\" d=\"M512,229.0 L508,221.0 516,221.0\" fill=\"currentColor\"/>\n",
              "</g>\n",
              "\n",
              "<g class=\"displacy-arrow\">\n",
              "    <path class=\"displacy-arc\" id=\"arrow-4f01d349c11b418e91d673f7894b312f-0-4\" stroke-width=\"2px\" d=\"M662,227.0 662,202.0 794.0,202.0 794.0,227.0\" fill=\"none\" stroke=\"currentColor\"/>\n",
              "    <text dy=\"1.25em\" style=\"font-size: 0.8em; letter-spacing: 1px\">\n",
              "        <textPath xlink:href=\"#arrow-4f01d349c11b418e91d673f7894b312f-0-4\" class=\"displacy-label\" startOffset=\"50%\" side=\"left\" fill=\"currentColor\" text-anchor=\"middle\">prep</textPath>\n",
              "    </text>\n",
              "    <path class=\"displacy-arrowhead\" d=\"M794.0,229.0 L798.0,221.0 790.0,221.0\" fill=\"currentColor\"/>\n",
              "</g>\n",
              "\n",
              "<g class=\"displacy-arrow\">\n",
              "    <path class=\"displacy-arc\" id=\"arrow-4f01d349c11b418e91d673f7894b312f-0-5\" stroke-width=\"2px\" d=\"M962,227.0 962,177.0 1247.0,177.0 1247.0,227.0\" fill=\"none\" stroke=\"currentColor\"/>\n",
              "    <text dy=\"1.25em\" style=\"font-size: 0.8em; letter-spacing: 1px\">\n",
              "        <textPath xlink:href=\"#arrow-4f01d349c11b418e91d673f7894b312f-0-5\" class=\"displacy-label\" startOffset=\"50%\" side=\"left\" fill=\"currentColor\" text-anchor=\"middle\">det</textPath>\n",
              "    </text>\n",
              "    <path class=\"displacy-arrowhead\" d=\"M962,229.0 L958,221.0 966,221.0\" fill=\"currentColor\"/>\n",
              "</g>\n",
              "\n",
              "<g class=\"displacy-arrow\">\n",
              "    <path class=\"displacy-arc\" id=\"arrow-4f01d349c11b418e91d673f7894b312f-0-6\" stroke-width=\"2px\" d=\"M1112,227.0 1112,202.0 1244.0,202.0 1244.0,227.0\" fill=\"none\" stroke=\"currentColor\"/>\n",
              "    <text dy=\"1.25em\" style=\"font-size: 0.8em; letter-spacing: 1px\">\n",
              "        <textPath xlink:href=\"#arrow-4f01d349c11b418e91d673f7894b312f-0-6\" class=\"displacy-label\" startOffset=\"50%\" side=\"left\" fill=\"currentColor\" text-anchor=\"middle\">amod</textPath>\n",
              "    </text>\n",
              "    <path class=\"displacy-arrowhead\" d=\"M1112,229.0 L1108,221.0 1116,221.0\" fill=\"currentColor\"/>\n",
              "</g>\n",
              "\n",
              "<g class=\"displacy-arrow\">\n",
              "    <path class=\"displacy-arc\" id=\"arrow-4f01d349c11b418e91d673f7894b312f-0-7\" stroke-width=\"2px\" d=\"M812,227.0 812,152.0 1250.0,152.0 1250.0,227.0\" fill=\"none\" stroke=\"currentColor\"/>\n",
              "    <text dy=\"1.25em\" style=\"font-size: 0.8em; letter-spacing: 1px\">\n",
              "        <textPath xlink:href=\"#arrow-4f01d349c11b418e91d673f7894b312f-0-7\" class=\"displacy-label\" startOffset=\"50%\" side=\"left\" fill=\"currentColor\" text-anchor=\"middle\">pobj</textPath>\n",
              "    </text>\n",
              "    <path class=\"displacy-arrowhead\" d=\"M1250.0,229.0 L1254.0,221.0 1246.0,221.0\" fill=\"currentColor\"/>\n",
              "</g>\n",
              "</svg></span>"
            ]
          },
          "metadata": {}
        }
      ]
    },
    {
      "cell_type": "code",
      "source": [
        "# Sample sentence\n",
        "sentence = \"The bass in the song was too loud.\"\n",
        "\n",
        "# Process the sentence using spaCy\n",
        "doc = nlp(sentence)\n",
        "\n",
        "# Function to get WordNet synsets (senses) of a word\n",
        "def get_wordnet_senses(word):\n",
        "    return wordnet.synsets(word)\n",
        "\n",
        "# For each token in the doc, print its WordNet senses\n",
        "for token in doc:\n",
        "    senses = get_wordnet_senses(token.text)\n",
        "    if senses:\n",
        "        print(f\"Word: {token.text}, Senses: {[sense.definition() for sense in senses]}\")"
      ],
      "metadata": {
        "colab": {
          "base_uri": "https://localhost:8080/"
        },
        "id": "Eb8cxI9iLWeo",
        "outputId": "34ca5907-5b8a-492a-9246-c01a4187a883"
      },
      "execution_count": null,
      "outputs": [
        {
          "output_type": "stream",
          "name": "stdout",
          "text": [
            "Word: bass, Senses: ['the lowest part of the musical range', 'the lowest part in polyphonic music', 'an adult male singer with the lowest voice', 'the lean flesh of a saltwater fish of the family Serranidae', 'any of various North American freshwater fish with lean flesh (especially of the genus Micropterus)', 'the lowest adult male singing voice', 'the member with the lowest range of a family of musical instruments', 'nontechnical name for any of numerous edible marine and freshwater spiny-finned fishes', 'having or denoting a low vocal or instrumental range']\n",
            "Word: in, Senses: ['a unit of length equal to one twelfth of a foot', 'a rare soft silvery metallic element; occurs in small quantities in sphalerite', 'a state in midwestern United States', 'holding office', 'directed or bound inward', 'currently fashionable', 'to or toward the inside of']\n",
            "Word: song, Senses: ['a short musical composition with words', 'a distinctive or characteristic sound', 'the act of singing', 'the characteristic sound produced by a bird', 'a very small sum', 'the imperial dynasty of China from 960 to 1279; noted for art and literature and philosophy']\n",
            "Word: was, Senses: ['a state in northwestern United States on the Pacific', 'have the quality of being; (copula, used with an adjective or a predicate noun)', 'be identical to; be someone or something', 'occupy a certain position or area; be somewhere', 'have an existence, be extant', 'happen, occur, take place', 'be identical or equivalent to', 'form or compose', 'work in a specific place, with a specific subject, or in a specific function', 'represent, as of a character on stage', 'spend or use time', 'have life, be alive', 'to remain unmolested, undisturbed, or uninterrupted -- used only in infinitive form', 'be priced at']\n",
            "Word: too, Senses: ['to a degree exceeding normal or proper limits', 'in addition']\n",
            "Word: loud, Senses: ['characterized by or producing sound of great volume or intensity', 'tastelessly showy', 'used chiefly as a direction or description in music', 'with relatively high volume']\n"
          ]
        }
      ]
    },
    {
      "cell_type": "markdown",
      "source": [
        "# N-grams Explanation\n",
        "\n",
        "N-grams are continuous sequences of 'n' items (words or characters) from a given sample of text or speech.\n",
        "They are commonly used in natural language processing (NLP) for tasks like text analysis, language modeling,\n",
        "and machine learning.\n",
        "\n",
        "Types of N-grams:\n",
        "1. Unigrams (1-grams): Single words (e.g., \"I\", \"love\", \"coding\").\n",
        "2. Bigrams (2-grams): Pairs of consecutive words (e.g., \"I love\", \"love coding\").\n",
        "3. Trigrams (3-grams): Triplets of consecutive words (e.g., \"I love coding\").\n"
      ],
      "metadata": {
        "id": "YE3t-HrQh_43"
      }
    },
    {
      "cell_type": "code",
      "source": [
        "# Sample text\n",
        "text = \"This is a sentence\"\n",
        "\n",
        "# Tokenize the text\n",
        "tokens = nltk.word_tokenize(text)\n",
        "\n",
        "# Generate bigrams\n",
        "bigrams = list(ngrams(tokens, 2))\n",
        "\n",
        "# Generate trigrams\n",
        "trigrams = list(ngrams(tokens, 3))\n",
        "\n",
        "print(\"Bigrams:\", bigrams)\n",
        "print(\"Trigrams:\", trigrams)"
      ],
      "metadata": {
        "colab": {
          "base_uri": "https://localhost:8080/"
        },
        "id": "M6rKFILWOOST",
        "outputId": "6f5990b5-19e8-4351-ea63-534a8aca948c"
      },
      "execution_count": null,
      "outputs": [
        {
          "output_type": "stream",
          "name": "stdout",
          "text": [
            "Bigrams: [('This', 'is'), ('is', 'a'), ('a', 'sentence')]\n",
            "Trigrams: [('This', 'is', 'a'), ('is', 'a', 'sentence')]\n"
          ]
        }
      ]
    },
    {
      "cell_type": "markdown",
      "source": [
        "# Bag of Words Explanation\n",
        "\n",
        "\n",
        "The Bag of Words (BoW) model is a simple and widely used technique in natural language processing (NLP)\n",
        "for text representation. It transforms text into a numerical format that can be used in machine learning\n",
        "algorithms.\n",
        "\n",
        "Key Concepts:\n",
        "1. **Tokenization**: The text is split into individual words (tokens).\n",
        "2. **Vocabulary**: A set of unique words from the entire corpus is created.\n",
        "3. **Frequency Count**: For each document, a vector is created where each element represents the count\n",
        "   of a word from the vocabulary.\n",
        "\n",
        "Characteristics:\n",
        "- The BoW model disregards grammar and word order; it only focuses on the presence or absence of words.\n",
        "- It can be used for various NLP tasks, including text classification, sentiment analysis, and topic modeling.\n",
        "![Alt text](https://user.oc-static.com/upload/2022/12/08/16705125107088_16034397439042_surfin%20bird%20bow.png)  "
      ],
      "metadata": {
        "id": "O5GM1ny2ixzN"
      }
    },
    {
      "cell_type": "code",
      "source": [
        "documents = [\n",
        "    \"I love natural language processing.\",\n",
        "    \"NLP is fun and I love it.\",\n",
        "    \"Natural language processing can be amazing.\"\n",
        "]\n",
        "\n",
        "# Preprocess and tokenize the documents\n",
        "tokenized_docs = []\n",
        "for doc in documents:\n",
        "    # Process the text with spaCy\n",
        "    spacy_doc = nlp(doc.lower())  # Convert to lowercase\n",
        "    tokens = [token.text for token in spacy_doc if not token.is_punct and not token.is_stop]\n",
        "    tokenized_docs.append(tokens)\n",
        "\n",
        "# Create a vocabulary from the tokenized documents\n",
        "vocabulary = list(set(token for tokens in tokenized_docs for token in tokens))\n",
        "print(\"Vocabulary:\", vocabulary)\n",
        "\n",
        "# Create the Bag of Words representation\n",
        "def create_bow_representation(tokenized_docs, vocabulary):\n",
        "    bow_matrix = []\n",
        "    for tokens in tokenized_docs:\n",
        "        # Create a frequency count for each document\n",
        "        frequency_count = Counter(tokens)\n",
        "        # Create a vector for the document\n",
        "        vector = [frequency_count.get(word, 0) for word in vocabulary]\n",
        "        bow_matrix.append(vector)\n",
        "    return np.array(bow_matrix)\n",
        "\n",
        "# Generate the Bag of Words representation\n",
        "bow_matrix = create_bow_representation(tokenized_docs, vocabulary)\n",
        "\n",
        "print(\"\\nBag of Words Representation:\")\n",
        "print(bow_matrix)"
      ],
      "metadata": {
        "colab": {
          "base_uri": "https://localhost:8080/"
        },
        "id": "DjxNzPr8UD_g",
        "outputId": "0805e3f7-534e-4b91-dc88-0d7b9b5a9f51"
      },
      "execution_count": null,
      "outputs": [
        {
          "output_type": "stream",
          "name": "stdout",
          "text": [
            "Vocabulary: ['language', 'nlp', 'amazing', 'fun', 'love', 'processing', 'natural']\n",
            "\n",
            "Bag of Words Representation:\n",
            "[[1 0 0 0 1 1 1]\n",
            " [0 1 0 1 1 0 0]\n",
            " [1 0 1 0 0 1 1]]\n"
          ]
        }
      ]
    },
    {
      "cell_type": "markdown",
      "source": [
        "## Gensim and Word Vectors"
      ],
      "metadata": {
        "id": "zCT7mgIEk9BR"
      }
    },
    {
      "cell_type": "markdown",
      "source": [
        "# Word2Vec and Cosine Similarity Explanation\n",
        "\n",
        "### Word2Vec\n",
        "\n",
        "Word2Vec is a popular technique used in natural language processing (NLP) to convert words into vector representations, allowing machines to understand and process textual data. Developed by Google, it utilizes neural networks to learn word associations from large corpora of text.\n",
        "\n",
        "**Key Concepts:**\n",
        "1. **Continuous Bag of Words (CBOW):** Predicts a target word based on its surrounding context words.\n",
        "2. **Skip-Gram:** Predicts context words given a target word. This approach is useful for capturing relationships between words.\n",
        "![Word2Vec: Skip-Gram vs. CBOW](https://kavita-ganesan.com/wp-content/uploads/skipgram-vs-cbow-continuous-bag-of-words-word2vec-word-representation-1536x806.png)\n",
        "**source**:https://kavita-ganesan.com/wp-content/uploads/skipgram-vs-cbow-continuous-bag-of-words-word2vec-word-representation-1536x806.png\n",
        "**Output:**\n",
        "- Each word is represented as a dense vector in a high-dimensional space, where semantically similar words are mapped closer together.\n",
        "\n",
        "**Applications:**\n",
        "- Text classification, sentiment analysis, and machine translation.\n",
        "\n",
        "### Cosine Similarity\n",
        "\n",
        "Cosine similarity is a metric used to measure how similar two vectors are, regardless of their magnitude. It calculates the cosine of the angle between two non-zero vectors in an inner product space.\n",
        "\n",
        "**Formula:**\n",
        "$$\n",
        "\\text{Cosine Similarity} = \\frac{A \\cdot B}{\\|A\\| \\cdot \\|B\\|}\n",
        "$$\n",
        "\n",
        "Where:\n",
        "- \\( A . B \\) is the dot product of the vectors.\n",
        "- \\( \\|A\\| \\) and \\( \\|B\\| \\) are the magnitudes (lengths) of the vectors.\n",
        "\n",
        "\n",
        "**Interpretation:**\n",
        "- Cosine similarity ranges from -1 to 1.\n",
        "  - 1 means the vectors are identical (perfectly similar).\n",
        "  - 0 means the vectors are orthogonal (no similarity).\n",
        "  - -1 means the vectors are diametrically opposed.\n",
        "![Word2Vec: Word Embeddings](https://lamarr-institute.org/wp-content/uploads/word2vec-Wort-Embeddings.jpg)\n",
        "\n",
        "**Source**:https://lamarr-institute.org/wp-content/uploads/word2vec-Wort-Embeddings.jpg\n",
        "\n",
        "**Applications:**\n",
        "- Information retrieval, clustering, and recommendation systems.\n",
        "\n",
        "### Summary\n",
        "\n",
        "- Word2Vec transforms words into vector representations, capturing semantic relationships.\n",
        "- Cosine similarity quantifies the similarity between these vectors, helping to measure the degree of relatedness between words or documents.\n"
      ],
      "metadata": {
        "id": "hvWFwWSem7XV"
      }
    },
    {
      "cell_type": "code",
      "source": [
        "import gensim.downloader as api\n",
        "\n",
        "word_vectors = api.load(\"glove-wiki-gigaword-100\")  # load pre-trained word-vectors from gensim-data\n",
        "# Check the \"most similar words\", using the default \"cosine similarity\" measure.\n",
        "result = word_vectors.most_similar(positive=['woman', 'king'], negative=['man'])\n",
        "most_similar_key, similarity = result[5]  # look at the first match\n",
        "print(f\"{most_similar_key}: {similarity:.4f}\")"
      ],
      "metadata": {
        "colab": {
          "base_uri": "https://localhost:8080/"
        },
        "id": "RjeSJBNlbQUf",
        "outputId": "1db847b7-73c4-4edc-bdcf-f62fcc185f36"
      },
      "execution_count": null,
      "outputs": [
        {
          "output_type": "stream",
          "name": "stdout",
          "text": [
            "prince: 0.6517\n"
          ]
        }
      ]
    },
    {
      "cell_type": "code",
      "source": [
        "result = word_vectors.most_similar(positive=['woman', 'king'], negative=['man'])\n",
        "most_similar_key, similarity = result[0]  # look at the first match\n",
        "print(f\"{most_similar_key}: {similarity:.4f}\")"
      ],
      "metadata": {
        "colab": {
          "base_uri": "https://localhost:8080/"
        },
        "id": "FjpgXgj5cCiN",
        "outputId": "6a353495-4ece-4f87-c3dc-1711911096e5"
      },
      "execution_count": null,
      "outputs": [
        {
          "output_type": "stream",
          "name": "stdout",
          "text": [
            "queen: 0.7699\n"
          ]
        }
      ]
    },
    {
      "cell_type": "code",
      "source": [
        "result = word_vectors.most_similar(positive=['france', 'berlin'], negative=['paris'])\n",
        "most_similar_key, similarity = result[0]  # look at the first match\n",
        "print(f\"{most_similar_key}: {similarity:.4f}\")"
      ],
      "metadata": {
        "colab": {
          "base_uri": "https://localhost:8080/"
        },
        "id": "GzB91IX3iRl3",
        "outputId": "62f85025-684f-42cd-8a9b-b52294f08c23"
      },
      "execution_count": null,
      "outputs": [
        {
          "output_type": "stream",
          "name": "stdout",
          "text": [
            "germany: 0.8924\n"
          ]
        }
      ]
    }
  ]
}